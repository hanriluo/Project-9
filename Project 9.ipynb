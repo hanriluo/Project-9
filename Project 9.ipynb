{
 "cells": [
  {
   "cell_type": "markdown",
   "id": "f462a473",
   "metadata": {},
   "source": [
    "# Project 9\n",
    "\n",
    "For my Project, I decided to analyze an NFL dataset, which claims to have every play in the 2022 NFL season. My two questions I decided to answer were:\n",
    "\n",
    "1.) Is there a correlation between big plays for each team's offense and their ranking, specifically in relation to the points per game average?\n",
    "\n",
    "2.) Which down converted a first down the most? Which team had the most first downs? Which team had the least? Which team converted 3rd down the most?"
   ]
  },
  {
   "cell_type": "code",
   "execution_count": 97,
   "id": "d192da03",
   "metadata": {},
   "outputs": [],
   "source": [
    "# Imports\n",
    "import pandas as pd\n",
    "import numpy as np\n",
    "from matplotlib import pyplot as plt\n",
    "from matplotlib import patches as patches"
   ]
  },
  {
   "cell_type": "code",
   "execution_count": 98,
   "id": "6c98e6f1",
   "metadata": {},
   "outputs": [
    {
     "data": {
      "text/html": [
       "<div>\n",
       "<style scoped>\n",
       "    .dataframe tbody tr th:only-of-type {\n",
       "        vertical-align: middle;\n",
       "    }\n",
       "\n",
       "    .dataframe tbody tr th {\n",
       "        vertical-align: top;\n",
       "    }\n",
       "\n",
       "    .dataframe thead th {\n",
       "        text-align: right;\n",
       "    }\n",
       "</style>\n",
       "<table border=\"1\" class=\"dataframe\">\n",
       "  <thead>\n",
       "    <tr style=\"text-align: right;\">\n",
       "      <th></th>\n",
       "      <th>GameId</th>\n",
       "      <th>GameDate</th>\n",
       "      <th>Quarter</th>\n",
       "      <th>Minute</th>\n",
       "      <th>Second</th>\n",
       "      <th>OffenseTeam</th>\n",
       "      <th>DefenseTeam</th>\n",
       "      <th>Down</th>\n",
       "      <th>ToGo</th>\n",
       "      <th>YardLine</th>\n",
       "      <th>...</th>\n",
       "      <th>IsTwoPointConversion</th>\n",
       "      <th>IsTwoPointConversionSuccessful</th>\n",
       "      <th>RushDirection</th>\n",
       "      <th>YardLineFixed</th>\n",
       "      <th>YardLineDirection</th>\n",
       "      <th>IsPenaltyAccepted</th>\n",
       "      <th>PenaltyTeam</th>\n",
       "      <th>IsNoPlay</th>\n",
       "      <th>PenaltyType</th>\n",
       "      <th>PenaltyYards</th>\n",
       "    </tr>\n",
       "  </thead>\n",
       "  <tbody>\n",
       "    <tr>\n",
       "      <th>0</th>\n",
       "      <td>2022091106</td>\n",
       "      <td>2022-09-11</td>\n",
       "      <td>2</td>\n",
       "      <td>1</td>\n",
       "      <td>17</td>\n",
       "      <td>MIA</td>\n",
       "      <td>NE</td>\n",
       "      <td>2</td>\n",
       "      <td>10</td>\n",
       "      <td>55</td>\n",
       "      <td>...</td>\n",
       "      <td>0</td>\n",
       "      <td>0</td>\n",
       "      <td>NaN</td>\n",
       "      <td>45</td>\n",
       "      <td>OPP</td>\n",
       "      <td>0</td>\n",
       "      <td>NaN</td>\n",
       "      <td>0</td>\n",
       "      <td>NaN</td>\n",
       "      <td>0</td>\n",
       "    </tr>\n",
       "    <tr>\n",
       "      <th>1</th>\n",
       "      <td>2022091106</td>\n",
       "      <td>2022-09-11</td>\n",
       "      <td>3</td>\n",
       "      <td>7</td>\n",
       "      <td>4</td>\n",
       "      <td>NE</td>\n",
       "      <td>MIA</td>\n",
       "      <td>4</td>\n",
       "      <td>1</td>\n",
       "      <td>72</td>\n",
       "      <td>...</td>\n",
       "      <td>0</td>\n",
       "      <td>0</td>\n",
       "      <td>NaN</td>\n",
       "      <td>28</td>\n",
       "      <td>OPP</td>\n",
       "      <td>1</td>\n",
       "      <td>MIA</td>\n",
       "      <td>1</td>\n",
       "      <td>ILLEGAL CONTACT</td>\n",
       "      <td>5</td>\n",
       "    </tr>\n",
       "    <tr>\n",
       "      <th>2</th>\n",
       "      <td>2022091106</td>\n",
       "      <td>2022-09-11</td>\n",
       "      <td>3</td>\n",
       "      <td>6</td>\n",
       "      <td>57</td>\n",
       "      <td>NE</td>\n",
       "      <td>MIA</td>\n",
       "      <td>1</td>\n",
       "      <td>10</td>\n",
       "      <td>77</td>\n",
       "      <td>...</td>\n",
       "      <td>0</td>\n",
       "      <td>0</td>\n",
       "      <td>CENTER</td>\n",
       "      <td>23</td>\n",
       "      <td>OPP</td>\n",
       "      <td>0</td>\n",
       "      <td>NaN</td>\n",
       "      <td>0</td>\n",
       "      <td>NaN</td>\n",
       "      <td>0</td>\n",
       "    </tr>\n",
       "    <tr>\n",
       "      <th>3</th>\n",
       "      <td>2022091106</td>\n",
       "      <td>2022-09-11</td>\n",
       "      <td>3</td>\n",
       "      <td>6</td>\n",
       "      <td>17</td>\n",
       "      <td>NE</td>\n",
       "      <td>MIA</td>\n",
       "      <td>2</td>\n",
       "      <td>10</td>\n",
       "      <td>77</td>\n",
       "      <td>...</td>\n",
       "      <td>0</td>\n",
       "      <td>0</td>\n",
       "      <td>NaN</td>\n",
       "      <td>23</td>\n",
       "      <td>OPP</td>\n",
       "      <td>0</td>\n",
       "      <td>NaN</td>\n",
       "      <td>0</td>\n",
       "      <td>NaN</td>\n",
       "      <td>0</td>\n",
       "    </tr>\n",
       "    <tr>\n",
       "      <th>4</th>\n",
       "      <td>2022091106</td>\n",
       "      <td>2022-09-11</td>\n",
       "      <td>4</td>\n",
       "      <td>9</td>\n",
       "      <td>46</td>\n",
       "      <td>NE</td>\n",
       "      <td>MIA</td>\n",
       "      <td>4</td>\n",
       "      <td>3</td>\n",
       "      <td>100</td>\n",
       "      <td>...</td>\n",
       "      <td>0</td>\n",
       "      <td>0</td>\n",
       "      <td>NaN</td>\n",
       "      <td>0</td>\n",
       "      <td>OPP</td>\n",
       "      <td>0</td>\n",
       "      <td>NE</td>\n",
       "      <td>0</td>\n",
       "      <td>OFFENSIVE HOLDING</td>\n",
       "      <td>0</td>\n",
       "    </tr>\n",
       "    <tr>\n",
       "      <th>...</th>\n",
       "      <td>...</td>\n",
       "      <td>...</td>\n",
       "      <td>...</td>\n",
       "      <td>...</td>\n",
       "      <td>...</td>\n",
       "      <td>...</td>\n",
       "      <td>...</td>\n",
       "      <td>...</td>\n",
       "      <td>...</td>\n",
       "      <td>...</td>\n",
       "      <td>...</td>\n",
       "      <td>...</td>\n",
       "      <td>...</td>\n",
       "      <td>...</td>\n",
       "      <td>...</td>\n",
       "      <td>...</td>\n",
       "      <td>...</td>\n",
       "      <td>...</td>\n",
       "      <td>...</td>\n",
       "      <td>...</td>\n",
       "      <td>...</td>\n",
       "    </tr>\n",
       "    <tr>\n",
       "      <th>38593</th>\n",
       "      <td>2022091101</td>\n",
       "      <td>2022-09-11</td>\n",
       "      <td>4</td>\n",
       "      <td>4</td>\n",
       "      <td>59</td>\n",
       "      <td>CLE</td>\n",
       "      <td>CAR</td>\n",
       "      <td>2</td>\n",
       "      <td>7</td>\n",
       "      <td>28</td>\n",
       "      <td>...</td>\n",
       "      <td>0</td>\n",
       "      <td>0</td>\n",
       "      <td>CENTER</td>\n",
       "      <td>28</td>\n",
       "      <td>OWN</td>\n",
       "      <td>0</td>\n",
       "      <td>NaN</td>\n",
       "      <td>0</td>\n",
       "      <td>NaN</td>\n",
       "      <td>0</td>\n",
       "    </tr>\n",
       "    <tr>\n",
       "      <th>38594</th>\n",
       "      <td>2022091101</td>\n",
       "      <td>2022-09-11</td>\n",
       "      <td>4</td>\n",
       "      <td>5</td>\n",
       "      <td>36</td>\n",
       "      <td>CLE</td>\n",
       "      <td>CAR</td>\n",
       "      <td>1</td>\n",
       "      <td>15</td>\n",
       "      <td>20</td>\n",
       "      <td>...</td>\n",
       "      <td>0</td>\n",
       "      <td>0</td>\n",
       "      <td>NaN</td>\n",
       "      <td>20</td>\n",
       "      <td>OWN</td>\n",
       "      <td>0</td>\n",
       "      <td>NaN</td>\n",
       "      <td>0</td>\n",
       "      <td>NaN</td>\n",
       "      <td>0</td>\n",
       "    </tr>\n",
       "    <tr>\n",
       "      <th>38595</th>\n",
       "      <td>2022091101</td>\n",
       "      <td>2022-09-11</td>\n",
       "      <td>4</td>\n",
       "      <td>6</td>\n",
       "      <td>2</td>\n",
       "      <td>CLE</td>\n",
       "      <td>CAR</td>\n",
       "      <td>1</td>\n",
       "      <td>10</td>\n",
       "      <td>25</td>\n",
       "      <td>...</td>\n",
       "      <td>0</td>\n",
       "      <td>0</td>\n",
       "      <td>NaN</td>\n",
       "      <td>25</td>\n",
       "      <td>OWN</td>\n",
       "      <td>1</td>\n",
       "      <td>CLE</td>\n",
       "      <td>1</td>\n",
       "      <td>INELIGIBLE DOWNFIELD PASS</td>\n",
       "      <td>5</td>\n",
       "    </tr>\n",
       "    <tr>\n",
       "      <th>38596</th>\n",
       "      <td>2022091101</td>\n",
       "      <td>2022-09-11</td>\n",
       "      <td>4</td>\n",
       "      <td>6</td>\n",
       "      <td>2</td>\n",
       "      <td>CAR</td>\n",
       "      <td>CLE</td>\n",
       "      <td>0</td>\n",
       "      <td>0</td>\n",
       "      <td>35</td>\n",
       "      <td>...</td>\n",
       "      <td>0</td>\n",
       "      <td>0</td>\n",
       "      <td>NaN</td>\n",
       "      <td>35</td>\n",
       "      <td>OWN</td>\n",
       "      <td>0</td>\n",
       "      <td>NaN</td>\n",
       "      <td>0</td>\n",
       "      <td>NaN</td>\n",
       "      <td>0</td>\n",
       "    </tr>\n",
       "    <tr>\n",
       "      <th>38597</th>\n",
       "      <td>2022091100</td>\n",
       "      <td>2022-09-11</td>\n",
       "      <td>1</td>\n",
       "      <td>15</td>\n",
       "      <td>0</td>\n",
       "      <td>NO</td>\n",
       "      <td>ATL</td>\n",
       "      <td>0</td>\n",
       "      <td>0</td>\n",
       "      <td>35</td>\n",
       "      <td>...</td>\n",
       "      <td>0</td>\n",
       "      <td>0</td>\n",
       "      <td>NaN</td>\n",
       "      <td>35</td>\n",
       "      <td>OWN</td>\n",
       "      <td>0</td>\n",
       "      <td>NaN</td>\n",
       "      <td>0</td>\n",
       "      <td>NaN</td>\n",
       "      <td>0</td>\n",
       "    </tr>\n",
       "  </tbody>\n",
       "</table>\n",
       "<p>38598 rows × 45 columns</p>\n",
       "</div>"
      ],
      "text/plain": [
       "           GameId    GameDate  Quarter  Minute  Second OffenseTeam  \\\n",
       "0      2022091106  2022-09-11        2       1      17         MIA   \n",
       "1      2022091106  2022-09-11        3       7       4          NE   \n",
       "2      2022091106  2022-09-11        3       6      57          NE   \n",
       "3      2022091106  2022-09-11        3       6      17          NE   \n",
       "4      2022091106  2022-09-11        4       9      46          NE   \n",
       "...           ...         ...      ...     ...     ...         ...   \n",
       "38593  2022091101  2022-09-11        4       4      59         CLE   \n",
       "38594  2022091101  2022-09-11        4       5      36         CLE   \n",
       "38595  2022091101  2022-09-11        4       6       2         CLE   \n",
       "38596  2022091101  2022-09-11        4       6       2         CAR   \n",
       "38597  2022091100  2022-09-11        1      15       0          NO   \n",
       "\n",
       "      DefenseTeam  Down  ToGo  YardLine  ...  IsTwoPointConversion  \\\n",
       "0              NE     2    10        55  ...                     0   \n",
       "1             MIA     4     1        72  ...                     0   \n",
       "2             MIA     1    10        77  ...                     0   \n",
       "3             MIA     2    10        77  ...                     0   \n",
       "4             MIA     4     3       100  ...                     0   \n",
       "...           ...   ...   ...       ...  ...                   ...   \n",
       "38593         CAR     2     7        28  ...                     0   \n",
       "38594         CAR     1    15        20  ...                     0   \n",
       "38595         CAR     1    10        25  ...                     0   \n",
       "38596         CLE     0     0        35  ...                     0   \n",
       "38597         ATL     0     0        35  ...                     0   \n",
       "\n",
       "       IsTwoPointConversionSuccessful  RushDirection  YardLineFixed  \\\n",
       "0                                   0            NaN             45   \n",
       "1                                   0            NaN             28   \n",
       "2                                   0         CENTER             23   \n",
       "3                                   0            NaN             23   \n",
       "4                                   0            NaN              0   \n",
       "...                               ...            ...            ...   \n",
       "38593                               0         CENTER             28   \n",
       "38594                               0            NaN             20   \n",
       "38595                               0            NaN             25   \n",
       "38596                               0            NaN             35   \n",
       "38597                               0            NaN             35   \n",
       "\n",
       "      YardLineDirection  IsPenaltyAccepted  PenaltyTeam  IsNoPlay  \\\n",
       "0                   OPP                  0          NaN         0   \n",
       "1                   OPP                  1          MIA         1   \n",
       "2                   OPP                  0          NaN         0   \n",
       "3                   OPP                  0          NaN         0   \n",
       "4                   OPP                  0           NE         0   \n",
       "...                 ...                ...          ...       ...   \n",
       "38593               OWN                  0          NaN         0   \n",
       "38594               OWN                  0          NaN         0   \n",
       "38595               OWN                  1          CLE         1   \n",
       "38596               OWN                  0          NaN         0   \n",
       "38597               OWN                  0          NaN         0   \n",
       "\n",
       "                     PenaltyType  PenaltyYards  \n",
       "0                            NaN             0  \n",
       "1                ILLEGAL CONTACT             5  \n",
       "2                            NaN             0  \n",
       "3                            NaN             0  \n",
       "4              OFFENSIVE HOLDING             0  \n",
       "...                          ...           ...  \n",
       "38593                        NaN             0  \n",
       "38594                        NaN             0  \n",
       "38595  INELIGIBLE DOWNFIELD PASS             5  \n",
       "38596                        NaN             0  \n",
       "38597                        NaN             0  \n",
       "\n",
       "[38598 rows x 45 columns]"
      ]
     },
     "execution_count": 98,
     "metadata": {},
     "output_type": "execute_result"
    }
   ],
   "source": [
    "# Imports\n",
    "df = pd.read_csv(\"pbp-2022.csv\")\n",
    "df"
   ]
  },
  {
   "cell_type": "markdown",
   "id": "8ea2190c",
   "metadata": {},
   "source": [
    "I was curious to see if this dataset did actually have every play from the 2022 NFL season, so I will do a quick check to see when the last play's date was."
   ]
  },
  {
   "cell_type": "code",
   "execution_count": 99,
   "id": "3b2a5a75",
   "metadata": {},
   "outputs": [
    {
     "name": "stdout",
     "output_type": "stream",
     "text": [
      "2022-12-18 00:00:00\n"
     ]
    }
   ],
   "source": [
    "df[\"GameDate\"] = pd.to_datetime(df[\"GameDate\"])\n",
    "print(df[\"GameDate\"].max())"
   ]
  },
  {
   "cell_type": "markdown",
   "id": "5be6eba7",
   "metadata": {},
   "source": [
    "It seems as if the last date is the Sunday of Week 15 of 2022, so not quite the whole season but a large enough sample size to analyze."
   ]
  },
  {
   "cell_type": "markdown",
   "id": "67d100d1",
   "metadata": {},
   "source": [
    "Just for some context, I am defining a Big Play as a run of 15-plus yards and/or a pass of 20-plus yards."
   ]
  },
  {
   "cell_type": "code",
   "execution_count": 100,
   "id": "cff30c4c",
   "metadata": {},
   "outputs": [],
   "source": [
    "# Q1\n",
    "# Making a new dataset containing every big play\n",
    "df_passes = df[df[\"PlayType\"] == \"PASS\"]\n",
    "df_big_plays_passes = df_passes[df_passes[\"Yards\"] > 20]\n",
    "df_rushes = df[df[\"PlayType\"] == \"RUSH\"]\n",
    "df_big_plays_rushes = df_rushes[df_rushes[\"Yards\"] > 15]\n",
    "df_big_plays = pd.concat([df_big_plays_rushes, df_big_plays_passes])\n",
    "df_big_plays = df_big_plays.sort_values(by = \"GameDate\")"
   ]
  },
  {
   "cell_type": "code",
   "execution_count": 101,
   "id": "2ffe70ff",
   "metadata": {},
   "outputs": [
    {
     "data": {
      "text/plain": [
       "KC     80\n",
       "DAL    73\n",
       "PHI    70\n",
       "NYJ    67\n",
       "SF     66\n",
       "SEA    66\n",
       "NE     66\n",
       "BUF    63\n",
       "JAX    61\n",
       "LV     58\n",
       "GB     57\n",
       "CLE    57\n",
       "DET    56\n",
       "CIN    56\n",
       "MIA    55\n",
       "HOU    54\n",
       "TEN    54\n",
       "CAR    52\n",
       "DEN    52\n",
       "ATL    51\n",
       "BAL    50\n",
       "LAC    50\n",
       "CHI    49\n",
       "PIT    49\n",
       "ARI    48\n",
       "WAS    48\n",
       "MIN    45\n",
       "TB     42\n",
       "LA     41\n",
       "NO     41\n",
       "IND    38\n",
       "NYG    35\n",
       "Name: OffenseTeam, dtype: int64"
      ]
     },
     "execution_count": 101,
     "metadata": {},
     "output_type": "execute_result"
    }
   ],
   "source": [
    "df_big_plays[\"OffenseTeam\"].value_counts()"
   ]
  },
  {
   "cell_type": "markdown",
   "id": "d7434e15",
   "metadata": {},
   "source": [
    "We are going to analyze the top 7 teams, and compare each team with their offensive points per game average rankings.\n",
    "(Points per game data was taken from Pro-Football-Reference)\n",
    "\n",
    "#1: Chiefs (80 big plays) were ranked #1 in points per game, with a 29.2 avg.\n",
    "\n",
    "#2: Cowboys (73 big plays) were ranked #4 in points per game, with a 27.5 avg.\n",
    "\n",
    "#3: Eagles (70 big plays) were ranked #3 in points per game, with a 28.1 avg.\n",
    "\n",
    "#4: Jets (67 big plays) were ranked #29 in points per game, with a 17.4 avg.\n",
    "\n",
    "#T-5: 49ers (66 big plays) were ranked #6 in points per game, with a 26.5 avg.\n",
    "\n",
    "#T-5: Seahawks (66 big plays) were ranked #9 in points per game, with a 23.9 avg.\n",
    "\n",
    "#T-5: Patriots (66 big plays) were ranked #17 in points per game, with a 21.4 avg.\n",
    "\n",
    "Obviously, the biggest surprises for me were the Patriots and the Jets, as from what I remembered from last season, they were well respected and known for their stellar defenses, while having not the best offenses, as seen in the points per game rankings, as both teams are in the bottom half, with the jets being in the bottom 5.\n",
    "\n",
    "Notable teams left off were the Lions and the Bills. Both teams are known for being offensive juggernauts, as the Bills were #2 in points per game and the Lions were #5 in points per game, yet they failed to crack the top 5 in big plays from Week 1 - Week 15."
   ]
  },
  {
   "cell_type": "code",
   "execution_count": 111,
   "id": "8b0e5178",
   "metadata": {},
   "outputs": [
    {
     "data": {
      "image/png": "[encoded data removed]",
      "text/plain": [
       "<Figure size 640x480 with 1 Axes>"
      ]
     },
     "metadata": {},
     "output_type": "display_data"
    }
   ],
   "source": [
    "plt.bar(df_big_plays[\"OffenseTeam\"], df_big_plays.groupby(\"OffenseTeam\")[\"OffenseTeam\"].transform(\"count\"))\n",
    "plt.xlabel(\"Teams\")\n",
    "plt.ylabel(\"# Of Big Plays\")\n",
    "plt.title(\"# Of Big Plays per Team\")\n",
    "plt.show()"
   ]
  },
  {
   "cell_type": "markdown",
   "id": "20a66bc6",
   "metadata": {},
   "source": [
    "Just as some extra work, and me being curious I decided to do the same with defense."
   ]
  },
  {
   "cell_type": "code",
   "execution_count": 103,
   "id": "ae0fa7a9",
   "metadata": {},
   "outputs": [
    {
     "data": {
      "text/plain": [
       "SEA    67\n",
       "HOU    66\n",
       "MIN    65\n",
       "LAC    65\n",
       "TEN    64\n",
       "PIT    63\n",
       "GB     63\n",
       "DET    63\n",
       "LV     62\n",
       "CHI    61\n",
       "CAR    61\n",
       "CLE    58\n",
       "JAX    57\n",
       "NE     57\n",
       "NYG    56\n",
       "ATL    55\n",
       "CIN    53\n",
       "ARI    52\n",
       "TB     51\n",
       "IND    51\n",
       "WAS    50\n",
       "BAL    50\n",
       "MIA    49\n",
       "BUF    48\n",
       "KC     48\n",
       "PHI    47\n",
       "DAL    46\n",
       "DEN    46\n",
       "SF     45\n",
       "NO     45\n",
       "NYJ    44\n",
       "LA     42\n",
       "Name: DefenseTeam, dtype: int64"
      ]
     },
     "execution_count": 103,
     "metadata": {},
     "output_type": "execute_result"
    }
   ],
   "source": [
    "df_big_plays[\"DefenseTeam\"].value_counts()"
   ]
  },
  {
   "cell_type": "markdown",
   "id": "33334032",
   "metadata": {},
   "source": [
    "Now, for the defenses, we are going to analyze the top 8 teams, and compare each team with their defensive points per game average rankings.\n",
    "(Points per game data was taken from Pro-Football-Reference)\n",
    "\n",
    "#1: Seahawks (67 big plays) were ranked #25 in points per game given up, with a 23.6 avg.\n",
    "\n",
    "#2: Texans (66 big plays) were ranked #27 in points per game given up, with a 24.7 avg.\n",
    "\n",
    "#T-3: Vikings (65 big plays) were ranked #T-28 in points per game given up, with a 25.1 avg.\n",
    "\n",
    "#T-3: Chargers (65 big plays) were ranked #21 in points per game given up, with a 22.6 avg.\n",
    "\n",
    "#5: Titans (64 big plays) were ranked #14 in points per game given up, with a 21.1 avg.\n",
    "\n",
    "#T-6: Steelers (63 big plays) were ranked #10 in points per game given up, with a 20.4 avg.\n",
    "\n",
    "#T-6: Packers (63 big plays) were ranked #17 in points per game given up, with a 21.8 avg.\n",
    "\n",
    "#T-6: Lions (63 big plays) were ranked #T-28 in points per game given up, with a 25.1 avg.\n",
    "\n",
    "Everything checks out for the most part, except for the Titans and Steelers for me. Steelers and Titans have been known for having suffocating defenses, especially the Steelers, so it was surprising to see them on this list.\n",
    "\n",
    "Notable teams that were left off are the Bears and the Cardinals, who were ranked #32 and #31, respectively."
   ]
  },
  {
   "cell_type": "code",
   "execution_count": 104,
   "id": "17ec1187",
   "metadata": {},
   "outputs": [
    {
     "data": {
      "image/png": "[encoded data removed]",
      "text/plain": [
       "<Figure size 640x480 with 1 Axes>"
      ]
     },
     "metadata": {},
     "output_type": "display_data"
    }
   ],
   "source": [
    "plt.bar(df_big_plays[\"DefenseTeam\"], df_big_plays.groupby(\"DefenseTeam\")[\"DefenseTeam\"].transform(\"count\"))\n",
    "plt.xlabel(\"Teams\")\n",
    "plt.ylabel(\"# Of Big Plays Given up\")\n",
    "plt.title(\"# Of Big Plays Given up per Team\")\n",
    "plt.show()"
   ]
  },
  {
   "cell_type": "code",
   "execution_count": 105,
   "id": "8ac33824",
   "metadata": {},
   "outputs": [],
   "source": [
    "# Q2\n",
    "df_first_down = df[df[\"SeriesFirstDown\"] == 1]\n",
    "df_first_down = df_first_down[df_first_down[\"Down\"] != 0]"
   ]
  },
  {
   "cell_type": "code",
   "execution_count": 106,
   "id": "52b0edee",
   "metadata": {},
   "outputs": [
    {
     "data": {
      "text/plain": [
       "2    2997\n",
       "1    2359\n",
       "3    2227\n",
       "4     292\n",
       "Name: Down, dtype: int64"
      ]
     },
     "execution_count": 106,
     "metadata": {},
     "output_type": "execute_result"
    }
   ],
   "source": [
    "# Which down had the highest chance of achieving a first down?\n",
    "df_first_down[\"Down\"].value_counts()"
   ]
  },
  {
   "cell_type": "markdown",
   "id": "a4888c0e",
   "metadata": {},
   "source": [
    "It seems like 2nd down had the highest conversion rate, with 1st down being 2nd and then 3rd down being 3rd, while 4th down was in last place."
   ]
  },
  {
   "cell_type": "code",
   "execution_count": 107,
   "id": "b594a692",
   "metadata": {},
   "outputs": [
    {
     "data": {
      "text/plain": [
       "KC     312\n",
       "PHI    300\n",
       "DET    272\n",
       "CIN    271\n",
       "DAL    269\n",
       "BUF    269\n",
       "LAC    269\n",
       "JAX    268\n",
       "SF     262\n",
       "CLE    261\n",
       "LV     260\n",
       "TB     258\n",
       "SEA    256\n",
       "ARI    256\n",
       "PIT    255\n",
       "BAL    248\n",
       "MIA    244\n",
       "WAS    243\n",
       "MIN    243\n",
       "NYG    233\n",
       "NYJ    232\n",
       "IND    229\n",
       "NO     226\n",
       "CHI    226\n",
       "NE     225\n",
       "GB     223\n",
       "ATL    223\n",
       "DEN    220\n",
       "LA     215\n",
       "HOU    207\n",
       "TEN    207\n",
       "CAR    193\n",
       "Name: OffenseTeam, dtype: int64"
      ]
     },
     "execution_count": 107,
     "metadata": {},
     "output_type": "execute_result"
    }
   ],
   "source": [
    "# Which team had the most first downs?\n",
    "df_first_down[\"OffenseTeam\"].value_counts()"
   ]
  },
  {
   "cell_type": "markdown",
   "id": "1440fd08",
   "metadata": {},
   "source": [
    "The Chiefs had the most first downs, with the Eagles, Lions, Bengals being 2, 3, and 4 respectively, while the cowboys, Bills and Chargers were tied for 5th."
   ]
  },
  {
   "cell_type": "code",
   "execution_count": 108,
   "id": "60cb770d",
   "metadata": {},
   "outputs": [
    {
     "data": {
      "text/plain": [
       "KC     312\n",
       "PHI    300\n",
       "DET    272\n",
       "CIN    271\n",
       "DAL    269\n",
       "BUF    269\n",
       "LAC    269\n",
       "JAX    268\n",
       "SF     262\n",
       "CLE    261\n",
       "LV     260\n",
       "TB     258\n",
       "SEA    256\n",
       "ARI    256\n",
       "PIT    255\n",
       "BAL    248\n",
       "MIA    244\n",
       "WAS    243\n",
       "MIN    243\n",
       "NYG    233\n",
       "NYJ    232\n",
       "IND    229\n",
       "NO     226\n",
       "CHI    226\n",
       "NE     225\n",
       "GB     223\n",
       "ATL    223\n",
       "DEN    220\n",
       "LA     215\n",
       "HOU    207\n",
       "TEN    207\n",
       "CAR    193\n",
       "Name: OffenseTeam, dtype: int64"
      ]
     },
     "execution_count": 108,
     "metadata": {},
     "output_type": "execute_result"
    }
   ],
   "source": [
    "# Which team had the least first downs? \n",
    "df_first_down[\"OffenseTeam\"].value_counts()"
   ]
  },
  {
   "cell_type": "markdown",
   "id": "6b4cad84",
   "metadata": {},
   "source": [
    "The Panthers, Titans, Texans, Rams, and Broncos were the bottom 5 teams that converted for 1st downs."
   ]
  },
  {
   "cell_type": "code",
   "execution_count": 109,
   "id": "3a7d40ec",
   "metadata": {},
   "outputs": [
    {
     "data": {
      "text/plain": [
       "LAC    91\n",
       "PHI    87\n",
       "DAL    86\n",
       "SF     84\n",
       "CHI    82\n",
       "PIT    80\n",
       "KC     80\n",
       "CIN    77\n",
       "TB     75\n",
       "NYJ    74\n",
       "DET    74\n",
       "BUF    72\n",
       "BAL    71\n",
       "JAX    71\n",
       "MIN    70\n",
       "ARI    69\n",
       "IND    67\n",
       "NO     66\n",
       "CLE    66\n",
       "LV     66\n",
       "NYG    65\n",
       "SEA    65\n",
       "LA     65\n",
       "TEN    64\n",
       "WAS    64\n",
       "NE     63\n",
       "GB     60\n",
       "DEN    59\n",
       "ATL    58\n",
       "MIA    54\n",
       "HOU    53\n",
       "CAR    49\n",
       "Name: OffenseTeam, dtype: int64"
      ]
     },
     "execution_count": 109,
     "metadata": {},
     "output_type": "execute_result"
    }
   ],
   "source": [
    "# Which team converted 3rd down the most?\n",
    "df_third_down = df_first_down[df_first_down[\"Down\"] == 3]\n",
    "df_third_down[\"OffenseTeam\"].value_counts()"
   ]
  },
  {
   "cell_type": "markdown",
   "id": "fef827f6",
   "metadata": {},
   "source": [
    "It seems like the Chargers, Eagles, Cowboys, 49ers, and the Bears were the top 5 teams that converted third downs."
   ]
  },
  {
   "cell_type": "code",
   "execution_count": 110,
   "id": "615018a9",
   "metadata": {
    "scrolled": false
   },
   "outputs": [
    {
     "data": {
      "image/png": "[encoded data removed]",
      "text/plain": [
       "<Figure size 1200x633 with 1 Axes>"
      ]
     },
     "metadata": {},
     "output_type": "display_data"
    }
   ],
   "source": [
    "# Above and Beyond\n",
    "rect = patches.Rectangle((0, 0), 120, 53.3, linewidth = 0.1, edgecolor = \"r\", facecolor = \"white\")\n",
    "fig, ax = plt.subplots(1, figsize = (12, 6.33))\n",
    "ax.add_patch(rect)\n",
    "plt.plot([10, 10, 10, 20, 20, 30, 30, 40, 40, 50, 50, 60, 60, 70, 70, 80, 80, 90, 90, 100, 100, 110, 110, 120, 0, 0, 120, 120], [0, 0, 53.3, 53.3, 0, 0, 53.3, 53.3, 0, 0, 53.3, 53.3, 0, 0, 53.3, 53.3, 0, 0, 53.3, 53.3, 0, 0, 53.3, 53.3, 53.3, 0, 0, 53.3], color = \"Black\")\n",
    "for x in range(20, 110, 10):\n",
    "    numb = x\n",
    "    if x > 50:\n",
    "        numb = 120 - x\n",
    "    plt.text(x, 2.5, str(numb - 10), horizontalalignment = \"center\", fontsize = 18, color = \"black\")\n",
    "    plt.text(x, 53.3 - 4.5, str(numb - 10), horizontalalignment = \"center\", fontsize = 18, color = \"black\")\n",
    "\n",
    "plt.xlim(10, 110)\n",
    "plt.axis(\"off\")\n",
    "\n",
    "index = 0\n",
    "for i in df_big_plays.index:\n",
    "    plt.plot([10 + df_big_plays[\"YardLine\"][i], 10 + df_big_plays[\"YardLine\"][i] + df_big_plays[\"Yards\"][i]], [6 + (42 * (index / len(df_big_plays))), 6 + (42 * (index / len(df_big_plays)))], label = df_big_plays[\"OffenseTeam\"][i], linewidth = 0.5)\n",
    "    index += 1\n",
    "plt.show()"
   ]
  },
  {
   "cell_type": "markdown",
   "id": "a18ce4fe",
   "metadata": {},
   "source": [
    "For my Above and Beyond, I decided to visualize every single big play. I tried my best to make a football field, and it was super fun and cool to think of how to make. One pattern that I do see though when I look at it, is that there are a lot of plays that start at the 25 yard line, which is where the ball is placed on a touchback, so I thought that was cool to point out."
   ]
  },
  {
   "cell_type": "code",
   "execution_count": null,
   "id": "38deccc9",
   "metadata": {},
   "outputs": [],
   "source": []
  }
 ],
 "metadata": {
  "kernelspec": {
   "display_name": "Python 3 (ipykernel)",
   "language": "python",
   "name": "python3"
  },
  "language_info": {
   "codemirror_mode": {
    "name": "ipython",
    "version": 3
   },
   "file_extension": ".py",
   "mimetype": "text/x-python",
   "name": "python",
   "nbconvert_exporter": "python",
   "pygments_lexer": "ipython3",
   "version": "3.11.4"
  }
 },
 "nbformat": 4,
 "nbformat_minor": 5
}
